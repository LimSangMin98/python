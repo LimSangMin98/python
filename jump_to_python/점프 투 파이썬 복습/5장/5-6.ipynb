{
 "cells": [
  {
   "cell_type": "markdown",
   "metadata": {},
   "source": [
    "## 5-6 라이브러리"
   ]
  },
  {
   "cell_type": "markdown",
   "metadata": {},
   "source": [
    "sys 모듈 : 파이썬 인터프리터가 제공하는 변수와 함수를\n",
    "           직접 제어할 수 있게 해준다."
   ]
  },
  {
   "cell_type": "code",
   "execution_count": 1,
   "metadata": {},
   "outputs": [
    {
     "name": "stdout",
     "output_type": "stream",
     "text": [
      "리스트의 메모리 사용량: 104 바이트\n"
     ]
    }
   ],
   "source": [
    "# 객체 크기 확인\n",
    "import sys\n",
    "\n",
    "x = [1, 2, 3, 4, 5]\n",
    "print(\"리스트의 메모리 사용량:\", sys.getsizeof(x), \"바이트\")"
   ]
  },
  {
   "cell_type": "code",
   "execution_count": 2,
   "metadata": {},
   "outputs": [
    {
     "name": "stdout",
     "output_type": "stream",
     "text": [
      "파이썬 버전: 3.11.2 (tags/v3.11.2:878ead1, Feb  7 2023, 16:38:35) [MSC v.1934 64 bit (AMD64)]\n",
      "파이썬 버전 정보: sys.version_info(major=3, minor=11, micro=2, releaselevel='final', serial=0)\n"
     ]
    }
   ],
   "source": [
    "# 파이썬 버전 확인\n",
    "import sys\n",
    "\n",
    "print(\"파이썬 버전:\", sys.version)\n",
    "print(\"파이썬 버전 정보:\", sys.version_info)"
   ]
  }
 ],
 "metadata": {
  "kernelspec": {
   "display_name": "Python 3",
   "language": "python",
   "name": "python3"
  },
  "language_info": {
   "codemirror_mode": {
    "name": "ipython",
    "version": 3
   },
   "file_extension": ".py",
   "mimetype": "text/x-python",
   "name": "python",
   "nbconvert_exporter": "python",
   "pygments_lexer": "ipython3",
   "version": "3.11.2"
  }
 },
 "nbformat": 4,
 "nbformat_minor": 2
}
