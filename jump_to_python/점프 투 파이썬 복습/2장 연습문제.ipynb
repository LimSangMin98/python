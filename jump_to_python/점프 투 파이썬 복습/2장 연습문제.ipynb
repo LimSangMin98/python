{
 "cells": [
  {
   "cell_type": "markdown",
   "metadata": {},
   "source": [
    "1. 홍길동 씨의 과목 평균 점수"
   ]
  },
  {
   "cell_type": "code",
   "execution_count": 1,
   "metadata": {},
   "outputs": [
    {
     "name": "stdout",
     "output_type": "stream",
     "text": [
      "70.0\n"
     ]
    }
   ],
   "source": [
    "국어 = 80\n",
    "영어 = 75\n",
    "수학 = 55\n",
    "print((국어+영어+수학)/3)"
   ]
  },
  {
   "cell_type": "markdown",
   "metadata": {},
   "source": [
    "2. 자연수 13이 홀수인지 짝수인지 판별할 수 있는 방법\n",
    "    - 13을 2로 나눴을 때 나머지가 0이면 짝수 1이면 홀수\n",
    "    - 홀수"
   ]
  },
  {
   "cell_type": "code",
   "execution_count": 9,
   "metadata": {},
   "outputs": [
    {
     "name": "stdout",
     "output_type": "stream",
     "text": [
      "13 은 홀수입니다.\n"
     ]
    }
   ],
   "source": [
    "number = 13\n",
    "\n",
    "if number % 2 == 0:\n",
    "    print(number, \"은 짝수입니다.\")\n",
    "else:\n",
    "    print(number, \"은 홀수입니다.\")\n",
    "\n"
   ]
  },
  {
   "cell_type": "markdown",
   "metadata": {},
   "source": [
    "3. 홍길동 씨의 주민번호를 연원일 부분과 숫자부분 나누기"
   ]
  },
  {
   "cell_type": "code",
   "execution_count": 14,
   "metadata": {},
   "outputs": [
    {
     "name": "stdout",
     "output_type": "stream",
     "text": [
      "881120\n",
      "1068234\n"
     ]
    }
   ],
   "source": [
    "pin = \"881120-1068234\"\n",
    "yyyymmdd = pin[:6]\n",
    "num = pin[7:]\n",
    "print(yyyymmdd)\n",
    "print(num)"
   ]
  },
  {
   "cell_type": "markdown",
   "metadata": {},
   "source": [
    "4. 주민등록번호에서 성별을 나타내는 수자 출력\n",
    "    - 맨앞 숫자 인덱싱하기"
   ]
  },
  {
   "cell_type": "code",
   "execution_count": 12,
   "metadata": {},
   "outputs": [
    {
     "name": "stdout",
     "output_type": "stream",
     "text": [
      "1\n"
     ]
    }
   ],
   "source": [
    "pin = \"881120-1068234\"\n",
    "print(pin[7])"
   ]
  },
  {
   "cell_type": "markdown",
   "metadata": {},
   "source": [
    "5. replace 함수를 사용하여 a#b#c#d로 바꾸기"
   ]
  },
  {
   "cell_type": "code",
   "execution_count": 19,
   "metadata": {},
   "outputs": [
    {
     "name": "stdout",
     "output_type": "stream",
     "text": [
      "a#b#c#d\n"
     ]
    }
   ],
   "source": [
    "a = \"a:b:c:d\"\n",
    "b = a.replace(\":\",\"#\")\n",
    "print(b)"
   ]
  },
  {
   "cell_type": "markdown",
   "metadata": {},
   "source": [
    "6. [1,3,5,4,2] => [5,4,3,2,1]\n",
    "    - sort, reverse"
   ]
  },
  {
   "cell_type": "code",
   "execution_count": 21,
   "metadata": {},
   "outputs": [
    {
     "name": "stdout",
     "output_type": "stream",
     "text": [
      "[1, 2, 3, 4, 5]\n",
      "[5, 4, 3, 2, 1]\n"
     ]
    }
   ],
   "source": [
    "a = [1,3,5,4,2]\n",
    "a. sort()\n",
    "print(a)\n",
    "a. reverse()\n",
    "print(a)"
   ]
  },
  {
   "cell_type": "markdown",
   "metadata": {},
   "source": [
    "7. ['Life','is','too','short'] => Life is too short"
   ]
  },
  {
   "cell_type": "code",
   "execution_count": 27,
   "metadata": {},
   "outputs": [
    {
     "name": "stdout",
     "output_type": "stream",
     "text": [
      "Life is too short\n"
     ]
    }
   ],
   "source": [
    "a = ['Life','is','too','short']\n",
    "result = \" \".join(a)\n",
    "print(result)"
   ]
  },
  {
   "cell_type": "markdown",
   "metadata": {},
   "source": [
    "8. 튜플(1,2,3)에 값 4를 추가"
   ]
  },
  {
   "cell_type": "code",
   "execution_count": 14,
   "metadata": {},
   "outputs": [
    {
     "name": "stdout",
     "output_type": "stream",
     "text": [
      "(1, 2, 3, 4)\n"
     ]
    }
   ],
   "source": [
    "a = (1,2,3)\n",
    "a = a + (4,)\n",
    "print(a)\n"
   ]
  },
  {
   "cell_type": "markdown",
   "metadata": {},
   "source": [
    "9. 오류 찾기\n",
    "    - 3,4번째"
   ]
  },
  {
   "cell_type": "code",
   "execution_count": 15,
   "metadata": {},
   "outputs": [
    {
     "name": "stdout",
     "output_type": "stream",
     "text": [
      "{}\n",
      "--------------------------------------------------\n",
      "{'name': 'python'}\n",
      "--------------------------------------------------\n",
      "{'name': 'python', ('a',): 'python'}\n",
      "--------------------------------------------------\n",
      "--------------------------------------------------\n",
      "{'name': 'python', ('a',): 'python', 250: 'python'}\n"
     ]
    }
   ],
   "source": [
    "a = dict()\n",
    "print(a)\n",
    "\n",
    "print('-'*50)\n",
    "\n",
    "a['name'] = 'python'\n",
    "print(a)\n",
    "\n",
    "print('-'*50)\n",
    "\n",
    "a[('a',)] = 'python'\n",
    "print(a)\n",
    "\n",
    "print('-'*50)\n",
    "\n",
    "# a[[1]] = 'python'\n",
    "# print(a)                # 리스트는 변하는 값이기 때문에 오류발생\n",
    "\n",
    "print('-'*50)\n",
    "\n",
    "a[250] = 'python'\n",
    "print(a)                "
   ]
  },
  {
   "cell_type": "markdown",
   "metadata": {},
   "source": [
    "10. 딕셔너리 a에서 'B'에 해당하는 값을 추출해 보자."
   ]
  },
  {
   "cell_type": "code",
   "execution_count": 4,
   "metadata": {},
   "outputs": [
    {
     "name": "stdout",
     "output_type": "stream",
     "text": [
      "{'A': 90, 'C': 70}\n",
      "80\n"
     ]
    }
   ],
   "source": [
    "a= {'A':90, 'B':80, 'C':70}\n",
    "result = a.pop('B')\n",
    "print(a)\n",
    "print(result)"
   ]
  },
  {
   "cell_type": "markdown",
   "metadata": {},
   "source": [
    "11. a 리스트에서 중복 숫자를 제거해 보자.\n"
   ]
  },
  {
   "cell_type": "code",
   "execution_count": 17,
   "metadata": {},
   "outputs": [
    {
     "name": "stdout",
     "output_type": "stream",
     "text": [
      "[1, 2, 3, 4, 5]\n"
     ]
    }
   ],
   "source": [
    "a= [1,1,1,2,2,3,3,3,4,4,5]\n",
    "aSet = set(a)\n",
    "b = list(aSet)\n",
    "print(b)"
   ]
  },
  {
   "cell_type": "markdown",
   "metadata": {},
   "source": [
    "12. a,b 변수를 선언한 후 a의 두 번째 요솟값을 변경하면 b의 값은 어떻게 될까?\n",
    "    - b의 값은 a값과 같은 값으로 변환된다.\n",
    "    - 이유는 a,b 둘다 [1,2,3]이라는 리스트 객체를 가리키고 있기 때문"
   ]
  },
  {
   "cell_type": "code",
   "execution_count": 11,
   "metadata": {},
   "outputs": [
    {
     "name": "stdout",
     "output_type": "stream",
     "text": [
      "[1, 4, 3]\n"
     ]
    }
   ],
   "source": [
    "a = b = [1,2,3]\n",
    "a[1] = 4\n",
    "print(b)"
   ]
  }
 ],
 "metadata": {
  "kernelspec": {
   "display_name": "Python 3",
   "language": "python",
   "name": "python3"
  },
  "language_info": {
   "codemirror_mode": {
    "name": "ipython",
    "version": 3
   },
   "file_extension": ".py",
   "mimetype": "text/x-python",
   "name": "python",
   "nbconvert_exporter": "python",
   "pygments_lexer": "ipython3",
   "version": "3.11.2"
  }
 },
 "nbformat": 4,
 "nbformat_minor": 2
}
