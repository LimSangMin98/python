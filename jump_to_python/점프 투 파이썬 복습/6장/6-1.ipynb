{
 "cells": [
  {
   "cell_type": "markdown",
   "metadata": {},
   "source": [
    "## 6-1 파이썬 프로그래밍"
   ]
  },
  {
   "cell_type": "code",
   "execution_count": 1,
   "metadata": {},
   "outputs": [
    {
     "name": "stdout",
     "output_type": "stream",
     "text": [
      "[2, 4, 6, 8, 10, 12, 14, 16, 18]\n"
     ]
    }
   ],
   "source": [
    "def gugu(n) : \n",
    "    result = []\n",
    "    i = 1\n",
    "    while i < 10 :\n",
    "        result.append(n*i)\n",
    "        i = i + 1\n",
    "    return result\n",
    "\n",
    "print(gugu(2))"
   ]
  },
  {
   "cell_type": "markdown",
   "metadata": {},
   "source": [
    "1000 미만의 자연수에서 3과 5의 배수의 총합을 구하시오\n",
    " - 입력 받을 값 1~999\n",
    " - 출력 하는 값 3,5의 배수"
   ]
  },
  {
   "cell_type": "code",
   "execution_count": 12,
   "metadata": {},
   "outputs": [
    {
     "name": "stdout",
     "output_type": "stream",
     "text": [
      "233168\n"
     ]
    }
   ],
   "source": [
    "result = 0\n",
    "for n in range(1,1000) :\n",
    "    if n % 3 == 0 or n % 5 == 0:\n",
    "        result += n \n",
    "print(result)"
   ]
  },
  {
   "cell_type": "markdown",
   "metadata": {},
   "source": [
    "15의 배수가 더해지는 경우(중복)"
   ]
  },
  {
   "cell_type": "code",
   "execution_count": 10,
   "metadata": {},
   "outputs": [
    {
     "name": "stdout",
     "output_type": "stream",
     "text": [
      "266333\n"
     ]
    }
   ],
   "source": [
    "result = 0\n",
    "for n in range(1,1000) : \n",
    "    if n % 3 == 0 :\n",
    "        result += n\n",
    "    if n % 5 == 0 :\n",
    "        result += n\n",
    "print(result)"
   ]
  },
  {
   "cell_type": "markdown",
   "metadata": {},
   "source": [
    "## 6-3 게시판 페이징 하기"
   ]
  },
  {
   "cell_type": "code",
   "execution_count": 14,
   "metadata": {},
   "outputs": [
    {
     "name": "stdout",
     "output_type": "stream",
     "text": [
      "Collecting pandas\n",
      "  Downloading pandas-2.2.3-cp311-cp311-win_amd64.whl (11.6 MB)\n",
      "     ---------------------------------------- 11.6/11.6 MB 8.0 MB/s eta 0:00:00\n",
      "Requirement already satisfied: numpy>=1.23.2 in c:\\users\\임상민\\appdata\\local\\programs\\python\\python311\\lib\\site-packages (from pandas) (2.1.0)\n",
      "Requirement already satisfied: python-dateutil>=2.8.2 in c:\\users\\임상민\\appdata\\roaming\\python\\python311\\site-packages (from pandas) (2.9.0.post0)\n",
      "Collecting pytz>=2020.1\n",
      "  Downloading pytz-2024.2-py2.py3-none-any.whl (508 kB)\n",
      "     -------------------------------------- 508.0/508.0 kB 7.9 MB/s eta 0:00:00\n",
      "Collecting tzdata>=2022.7\n",
      "  Downloading tzdata-2024.2-py2.py3-none-any.whl (346 kB)\n",
      "     ------------------------------------- 346.6/346.6 kB 10.8 MB/s eta 0:00:00\n",
      "Requirement already satisfied: six>=1.5 in c:\\users\\임상민\\appdata\\roaming\\python\\python311\\site-packages (from python-dateutil>=2.8.2->pandas) (1.16.0)\n",
      "Installing collected packages: pytz, tzdata, pandas\n",
      "Successfully installed pandas-2.2.3 pytz-2024.2 tzdata-2024.2\n",
      "Note: you may need to restart the kernel to use updated packages.\n"
     ]
    },
    {
     "name": "stderr",
     "output_type": "stream",
     "text": [
      "\n",
      "[notice] A new release of pip available: 22.3.1 -> 24.2\n",
      "[notice] To update, run: python.exe -m pip install --upgrade pip\n"
     ]
    }
   ],
   "source": [
    "%pip install pandas"
   ]
  },
  {
   "cell_type": "code",
   "execution_count": 19,
   "metadata": {},
   "outputs": [
    {
     "name": "stdout",
     "output_type": "stream",
     "text": [
      "Collecting jinja2\n",
      "  Downloading jinja2-3.1.4-py3-none-any.whl (133 kB)\n",
      "     ------------------------------------ 133.3/133.3 kB 878.8 kB/s eta 0:00:00\n",
      "Collecting MarkupSafe>=2.0\n",
      "  Downloading MarkupSafe-3.0.1-cp311-cp311-win_amd64.whl (15 kB)\n",
      "Installing collected packages: MarkupSafe, jinja2\n",
      "Successfully installed MarkupSafe-3.0.1 jinja2-3.1.4\n",
      "Note: you may need to restart the kernel to use updated packages.\n"
     ]
    },
    {
     "name": "stderr",
     "output_type": "stream",
     "text": [
      "\n",
      "[notice] A new release of pip available: 22.3.1 -> 24.2\n",
      "[notice] To update, run: python.exe -m pip install --upgrade pip\n"
     ]
    }
   ],
   "source": [
    "%pip install jinja2"
   ]
  },
  {
   "cell_type": "code",
   "execution_count": 21,
   "metadata": {},
   "outputs": [
    {
     "data": {
      "text/html": [
       "<style type=\"text/css\">\n",
       "#T_0b94d_row0_col0, #T_0b94d_row0_col1, #T_0b94d_row0_col2, #T_0b94d_row1_col0, #T_0b94d_row1_col1, #T_0b94d_row1_col2, #T_0b94d_row2_col0, #T_0b94d_row2_col1, #T_0b94d_row2_col2, #T_0b94d_row3_col0, #T_0b94d_row3_col1, #T_0b94d_row3_col2 {\n",
       "  text-align: center;\n",
       "}\n",
       "</style>\n",
       "<table id=\"T_0b94d\">\n",
       "  <thead>\n",
       "    <tr>\n",
       "      <th class=\"blank level0\" >&nbsp;</th>\n",
       "      <th id=\"T_0b94d_level0_col0\" class=\"col_heading level0 col0\" >게시물의 총 건수(m)</th>\n",
       "      <th id=\"T_0b94d_level0_col1\" class=\"col_heading level0 col1\" >페이지당 보여 줄 게시물 수(n)</th>\n",
       "      <th id=\"T_0b94d_level0_col2\" class=\"col_heading level0 col2\" >총 페이지 수</th>\n",
       "    </tr>\n",
       "  </thead>\n",
       "  <tbody>\n",
       "    <tr>\n",
       "      <th id=\"T_0b94d_level0_row0\" class=\"row_heading level0 row0\" >0</th>\n",
       "      <td id=\"T_0b94d_row0_col0\" class=\"data row0 col0\" >5</td>\n",
       "      <td id=\"T_0b94d_row0_col1\" class=\"data row0 col1\" >10</td>\n",
       "      <td id=\"T_0b94d_row0_col2\" class=\"data row0 col2\" >1</td>\n",
       "    </tr>\n",
       "    <tr>\n",
       "      <th id=\"T_0b94d_level0_row1\" class=\"row_heading level0 row1\" >1</th>\n",
       "      <td id=\"T_0b94d_row1_col0\" class=\"data row1 col0\" >15</td>\n",
       "      <td id=\"T_0b94d_row1_col1\" class=\"data row1 col1\" >10</td>\n",
       "      <td id=\"T_0b94d_row1_col2\" class=\"data row1 col2\" >2</td>\n",
       "    </tr>\n",
       "    <tr>\n",
       "      <th id=\"T_0b94d_level0_row2\" class=\"row_heading level0 row2\" >2</th>\n",
       "      <td id=\"T_0b94d_row2_col0\" class=\"data row2 col0\" >25</td>\n",
       "      <td id=\"T_0b94d_row2_col1\" class=\"data row2 col1\" >10</td>\n",
       "      <td id=\"T_0b94d_row2_col2\" class=\"data row2 col2\" >3</td>\n",
       "    </tr>\n",
       "    <tr>\n",
       "      <th id=\"T_0b94d_level0_row3\" class=\"row_heading level0 row3\" >3</th>\n",
       "      <td id=\"T_0b94d_row3_col0\" class=\"data row3 col0\" >30</td>\n",
       "      <td id=\"T_0b94d_row3_col1\" class=\"data row3 col1\" >10</td>\n",
       "      <td id=\"T_0b94d_row3_col2\" class=\"data row3 col2\" >3</td>\n",
       "    </tr>\n",
       "  </tbody>\n",
       "</table>\n"
      ],
      "text/plain": [
       "<pandas.io.formats.style.Styler at 0x10883031a90>"
      ]
     },
     "execution_count": 21,
     "metadata": {},
     "output_type": "execute_result"
    }
   ],
   "source": [
    "import pandas as pd\n",
    "\n",
    "data = {'게시물의 총 건수(m)': ['5','15','25','30'],\n",
    "        '페이지당 보여 줄 게시물 수(n)': [10,10,10,10],\n",
    "        '총 페이지 수': [1,2,3,3]}\n",
    "\n",
    "df = pd.DataFrame(data)\n",
    "\n",
    "# 모든 열을 가운데 정렬\n",
    "centered_df = df.style.set_properties(**{'text-align': 'center'})\n",
    "\n",
    "# 결과 표시\n",
    "centered_df"
   ]
  },
  {
   "cell_type": "code",
   "execution_count": 22,
   "metadata": {},
   "outputs": [
    {
     "name": "stdout",
     "output_type": "stream",
     "text": [
      "1\n",
      "2\n",
      "3\n",
      "3\n"
     ]
    }
   ],
   "source": [
    "# 총 페이지 수 구하기\n",
    "def getTotaPage(m,n) : \n",
    "    if m % n == 0 :\n",
    "        return m // n\n",
    "    else : \n",
    "        return m // n + 1\n",
    "    \n",
    "print(getTotaPage(5,10))\n",
    "print(getTotaPage(15,10))\n",
    "print(getTotaPage(25,10))\n",
    "print(getTotaPage(30,10))"
   ]
  },
  {
   "cell_type": "markdown",
   "metadata": {},
   "source": [
    "## 6-4 간단한 메모장 만들기"
   ]
  },
  {
   "cell_type": "markdown",
   "metadata": {},
   "source": [
    "필요한 기능 : 메모 추가하기, 메모 조회하기\n",
    "\n",
    "\n",
    "입력 받는 기능 : 메모 내용 , 프로그램 실행 옵션\n",
    "\n",
    "\n",
    "출력 값 : memo.txt\n",
    "\n",
    "python memo.py -a \" Life is too short\" \n",
    "\n",
    "\n",
    "a : 실행옵션\n",
    "\n",
    "memo.py 만들어서 실행 -> 코드 입력은 터미널 창에서 진행"
   ]
  },
  {
   "cell_type": "markdown",
   "metadata": {},
   "source": [
    "## 6-5 탭을 4개의 공백으로 바꾸기\n",
    "* #### tabto4.py 모듈 만들기"
   ]
  },
  {
   "cell_type": "markdown",
   "metadata": {},
   "source": [
    "필요한 기능 : 문자 파일 읽어오기, 문자열 변경하기\n",
    "\n",
    "입력 받는 값 : 탭을 포함한 문서 파일\n",
    "\n",
    "출력 값 : 탭이 공백으로 처리된 문서 파일"
   ]
  },
  {
   "cell_type": "markdown",
   "metadata": {},
   "source": [
    "## 6-6 하위 디렉터리 검색하기\n",
    "* #### sub_dir_search.py 모듈 만들기"
   ]
  },
  {
   "cell_type": "markdown",
   "metadata": {},
   "source": [
    "full_filename이 디렉터리 인지 파일인지 구별\n",
    " - os.path.isdir 함수 사용\n",
    " - 디렉터리일 경우 해당 경로를 입력받아\n",
    " - 다시 search 함수 호출(재귀 호출)\n",
    " - 해당 디렉터리의 하위 파일을 다시 검색 가능\n",
    "\n",
    "os.walk : 일반적으로 디렉터리와 파일을 검색할 때 추천\n"
   ]
  }
 ],
 "metadata": {
  "kernelspec": {
   "display_name": "Python 3",
   "language": "python",
   "name": "python3"
  },
  "language_info": {
   "codemirror_mode": {
    "name": "ipython",
    "version": 3
   },
   "file_extension": ".py",
   "mimetype": "text/x-python",
   "name": "python",
   "nbconvert_exporter": "python",
   "pygments_lexer": "ipython3",
   "version": "3.11.2"
  }
 },
 "nbformat": 4,
 "nbformat_minor": 2
}
