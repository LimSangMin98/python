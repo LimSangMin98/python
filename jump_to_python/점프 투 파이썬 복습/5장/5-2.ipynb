{
 "cells": [
  {
   "cell_type": "markdown",
   "metadata": {},
   "source": [
    "## 5-2 모듈"
   ]
  },
  {
   "cell_type": "markdown",
   "metadata": {},
   "source": [
    "모듈 : 함수 or 클래스를 모아놓은 파일"
   ]
  },
  {
   "cell_type": "code",
   "execution_count": 1,
   "metadata": {},
   "outputs": [],
   "source": [
    "def add(a,b) : \n",
    "    return a + b\n",
    "\n",
    "def sub(a,b) : \n",
    "    return a - b"
   ]
  },
  {
   "cell_type": "markdown",
   "metadata": {},
   "source": [
    "모듈 불러오기\n",
    "   - import 문 활용\n",
    "   - cmd에서 경로지정 후 import 하면 결과값 5,2 출력"
   ]
  },
  {
   "cell_type": "markdown",
   "metadata": {},
   "source": [
    "모듈을 cmd 에서 불러오는 방법\n",
    "\n",
    "cd C:\\workspace\\Python\\5장(저장되어 있는 경로)\n",
    "dir -> 디렉터리 안에 무슨 파일이 저장되어 있는지 확인\n",
    "python 입력\n",
    "import 문 사용\n",
    "ex) import mod1\n",
    "\n",
    "클래스 사용 방법은\n",
    "객체가 없을 경우 생성해야함\n",
    "ex) a = mod2.Math()\n",
    "\n",
    "생성 후 매개변수 사용\n",
    "ex) print(a.solv())\n",
    "\n",
    "주의점은 모듈안에 있는 클래스 사용시 클래스 이름 앞에 모듈이름 먼저입력!!\n"
   ]
  },
  {
   "cell_type": "code",
   "execution_count": 2,
   "metadata": {},
   "outputs": [
    {
     "name": "stdout",
     "output_type": "stream",
     "text": [
      "5\n",
      "2\n"
     ]
    }
   ],
   "source": [
    "def add(a,b) : \n",
    "    return a + b\n",
    "\n",
    "def sub(a,b) : \n",
    "    return a - b\n",
    "\n",
    "print(add(1,4))\n",
    "print(sub(4,2))"
   ]
  },
  {
   "cell_type": "markdown",
   "metadata": {},
   "source": [
    "if __name__ == \"__main__\" : 의 의미\n",
    "   - 위의 코드와 달리 결과값은 쓰지않고\n",
    "   - 특정함수만 쓰고 싶을 때 주로 사용\n",
    "   - if문으로 참이면 결과값 실행, 거짓이면 결과값 실행 X"
   ]
  },
  {
   "cell_type": "code",
   "execution_count": 1,
   "metadata": {},
   "outputs": [
    {
     "name": "stdout",
     "output_type": "stream",
     "text": [
      "5\n",
      "2\n"
     ]
    }
   ],
   "source": [
    "def add(a,b) : \n",
    "    return a + b\n",
    "\n",
    "def sub(a,b) : \n",
    "    return a - b\n",
    "\n",
    "if __name__ == \"__main__\" : \n",
    "    print(add(1,4))\n",
    "    print(sub(4,2))"
   ]
  }
 ],
 "metadata": {
  "kernelspec": {
   "display_name": "Python 3",
   "language": "python",
   "name": "python3"
  },
  "language_info": {
   "codemirror_mode": {
    "name": "ipython",
    "version": 3
   },
   "file_extension": ".py",
   "mimetype": "text/x-python",
   "name": "python",
   "nbconvert_exporter": "python",
   "pygments_lexer": "ipython3",
   "version": "3.11.2"
  }
 },
 "nbformat": 4,
 "nbformat_minor": 2
}
