{
 "cells": [
  {
   "cell_type": "markdown",
   "metadata": {},
   "source": [
    "## 5-5 내장함수"
   ]
  },
  {
   "cell_type": "markdown",
   "metadata": {},
   "source": [
    "abs : 절댓값 돌려주는 함수\n",
    "all : 반복가능한 자료형을 입력 받고 모두 참이면 True (and)\n",
    "any : 하나라도 참이면 True , 모두 거짓일때만 False (or)\n",
    "divmod : 2개의 숫자를 입력받고 a를 b로 나눈 몫과 나머지를 튜플로 돌려줌\n",
    "enumerate : 순서가 있는 자료형을 입력 받고 인덱스 값을 포함하는 \n",
    "            객체를 돌려줌\n",
    "\n"
   ]
  },
  {
   "cell_type": "code",
   "execution_count": 5,
   "metadata": {},
   "outputs": [
    {
     "data": {
      "text/plain": [
       "True"
      ]
     },
     "execution_count": 5,
     "metadata": {},
     "output_type": "execute_result"
    }
   ],
   "source": [
    "abs(-3.4)\n"
   ]
  },
  {
   "cell_type": "code",
   "execution_count": 6,
   "metadata": {},
   "outputs": [
    {
     "data": {
      "text/plain": [
       "True"
      ]
     },
     "execution_count": 6,
     "metadata": {},
     "output_type": "execute_result"
    }
   ],
   "source": [
    "all([1,2,3])"
   ]
  },
  {
   "cell_type": "code",
   "execution_count": 10,
   "metadata": {},
   "outputs": [
    {
     "name": "stdout",
     "output_type": "stream",
     "text": [
      "False\n",
      "True\n"
     ]
    }
   ],
   "source": [
    "print(any([0,0,0,0]))\n",
    "print(any([1,2,3,0]))"
   ]
  },
  {
   "cell_type": "code",
   "execution_count": 11,
   "metadata": {},
   "outputs": [
    {
     "name": "stdout",
     "output_type": "stream",
     "text": [
      "(2, 0)\n"
     ]
    }
   ],
   "source": [
    "print(divmod(4,2))"
   ]
  },
  {
   "cell_type": "code",
   "execution_count": 12,
   "metadata": {},
   "outputs": [
    {
     "name": "stdout",
     "output_type": "stream",
     "text": [
      "0 body\n",
      "1 fof\n",
      "2 bar\n"
     ]
    }
   ],
   "source": [
    "for i ,name in enumerate(['body', 'fof', 'bar']) : \n",
    "    print(i,name)"
   ]
  },
  {
   "cell_type": "code",
   "execution_count": 2,
   "metadata": {},
   "outputs": [
    {
     "name": "stdout",
     "output_type": "stream",
     "text": [
      "'hi+'a'\n"
     ]
    },
    {
     "data": {
      "text/plain": [
       "'hia'"
      ]
     },
     "execution_count": 2,
     "metadata": {},
     "output_type": "execute_result"
    }
   ],
   "source": [
    "print(\"'hi+'a'\")\n",
    "eval(\"'hi'+'a'\")"
   ]
  },
  {
   "cell_type": "markdown",
   "metadata": {},
   "source": [
    "id : 고유 주소 값이 호출\n",
    "input : 사용자 입력을 받는 함수\n",
    "int : 정수 형태로 돌려주는 함수\n",
    "len : 입력값의 길이를 돌려주는 함수\n",
    "list : 반복가능한 자료형을 입력받아 리스트로 만들어주는 함수\n"
   ]
  },
  {
   "cell_type": "code",
   "execution_count": 5,
   "metadata": {},
   "outputs": [
    {
     "name": "stdout",
     "output_type": "stream",
     "text": [
      "140723864007528\n",
      "140723864007528\n",
      "140723864007528\n",
      "140723864007592\n"
     ]
    }
   ],
   "source": [
    "# 3,a,b는 같은 객체를 가리킨다.\n",
    "a = 3\n",
    "print(id(a))\n",
    "print(id(3))\n",
    "b=a\n",
    "print(id(b))\n",
    "\n",
    "# 5는 3,a,b와 다른 객체다.\n",
    "print(id(5))\n"
   ]
  },
  {
   "cell_type": "code",
   "execution_count": 10,
   "metadata": {},
   "outputs": [
    {
     "name": "stdout",
     "output_type": "stream",
     "text": [
      "hi\n",
      "hi\n"
     ]
    }
   ],
   "source": [
    "a = input()\n",
    "print(a)\n",
    "\n",
    "b = input(\"Enter : \")   # 문자열이 프롬프트가 됨\n",
    "print(b)\n"
   ]
  },
  {
   "cell_type": "code",
   "execution_count": 12,
   "metadata": {},
   "outputs": [
    {
     "name": "stdout",
     "output_type": "stream",
     "text": [
      "3\n",
      "3\n"
     ]
    }
   ],
   "source": [
    "print(int('3'))\n",
    "print(int(3.4))"
   ]
  },
  {
   "cell_type": "code",
   "execution_count": 17,
   "metadata": {},
   "outputs": [
    {
     "name": "stdout",
     "output_type": "stream",
     "text": [
      "6\n",
      "8\n",
      "2\n"
     ]
    }
   ],
   "source": [
    "print(len(\"python\"))\n",
    "print(len(\"'python'\"))\n",
    "print(len((1,'a')))"
   ]
  },
  {
   "cell_type": "code",
   "execution_count": 20,
   "metadata": {},
   "outputs": [
    {
     "name": "stdout",
     "output_type": "stream",
     "text": [
      "['p', 'y', 't', 'h', 'o', 'n']\n",
      "[1, 2, 3]\n"
     ]
    }
   ],
   "source": [
    "print(list(\"python\"))   # 각 문자는 길이가 1인 문자열로 취급됨\n",
    "print(list((1,2,3)))"
   ]
  },
  {
   "cell_type": "markdown",
   "metadata": {},
   "source": [
    "map : 함수와 반복가능한 자료형을 입력으로 받고\n",
    "      함수가 수행한 결과를 묶어서 돌려주는 함수이다."
   ]
  },
  {
   "cell_type": "code",
   "execution_count": 22,
   "metadata": {},
   "outputs": [
    {
     "name": "stdout",
     "output_type": "stream",
     "text": [
      "[2, 4, 6, 8]\n"
     ]
    }
   ],
   "source": [
    "def two_times(numberList) : \n",
    "    result = []\n",
    "    for number in numberList :\n",
    "        result.append(number*2)\n",
    "    return result\n",
    "\n",
    "result = two_times([1,2,3,4])\n",
    "print(result)"
   ]
  },
  {
   "cell_type": "code",
   "execution_count": 23,
   "metadata": {},
   "outputs": [
    {
     "data": {
      "text/plain": [
       "[2, 4, 6, 8]"
      ]
     },
     "execution_count": 23,
     "metadata": {},
     "output_type": "execute_result"
    }
   ],
   "source": [
    "# map 함수 적용\n",
    "def two_times(x) : return x*2\n",
    "\n",
    "list(map(two_times, [1,2,3,4]))   # two_time(x) 함수와 list 입력 후\n",
    "                                  # 리스트로 묶어서 출력\n"
   ]
  },
  {
   "cell_type": "code",
   "execution_count": 24,
   "metadata": {},
   "outputs": [
    {
     "data": {
      "text/plain": [
       "[2, 4, 6, 8]"
      ]
     },
     "execution_count": 24,
     "metadata": {},
     "output_type": "execute_result"
    }
   ],
   "source": [
    "# map 함수 + lambda 적용\n",
    "list(map(lambda a : a*2,[1,2,3,4]))"
   ]
  },
  {
   "cell_type": "markdown",
   "metadata": {},
   "source": [
    "range : for문과 함께 자주 사용하며 입력받은 숫자의 범위값을\n",
    "        반복 가능한 객체로 만들어준다."
   ]
  },
  {
   "cell_type": "code",
   "execution_count": 29,
   "metadata": {},
   "outputs": [
    {
     "name": "stdout",
     "output_type": "stream",
     "text": [
      "[0, 1, 2, 3, 4]\n",
      "[5, 6, 7, 8, 9]\n",
      "[1, 4, 7]\n"
     ]
    }
   ],
   "source": [
    "# 인수가 1개인 경우\n",
    "print(list(range(5)))\n",
    "\n",
    "# 인수가 2개인 경우\n",
    "print(list(range(5,10)))\n",
    "\n",
    "# 인수가 3개인 경우\n",
    "print(list(range(1,10,3)))"
   ]
  },
  {
   "cell_type": "markdown",
   "metadata": {},
   "source": [
    "round : 숫자를 입력받아 반올림 해줌\n",
    "   - 파이(3.14....)을 소수점 2자리까지 반올림 해보기"
   ]
  },
  {
   "cell_type": "code",
   "execution_count": 35,
   "metadata": {},
   "outputs": [
    {
     "name": "stdout",
     "output_type": "stream",
     "text": [
      "<class 'float'>\n",
      "3.14\n"
     ]
    }
   ],
   "source": [
    "import math\n",
    "pi_value = math.pi   # 파이값을 나타내는 상수\n",
    "print(round(pi_value,2))"
   ]
  },
  {
   "cell_type": "markdown",
   "metadata": {},
   "source": [
    "zip : 동일한 개수로 이루어진 자료형을 묶어주는 함수"
   ]
  },
  {
   "cell_type": "code",
   "execution_count": 36,
   "metadata": {},
   "outputs": [
    {
     "data": {
      "text/plain": [
       "[(1, 4), (2, 5), (3, 6)]"
      ]
     },
     "execution_count": 36,
     "metadata": {},
     "output_type": "execute_result"
    }
   ],
   "source": [
    "list(zip([1,2,3],[4,5,6]))"
   ]
  },
  {
   "cell_type": "code",
   "execution_count": 12,
   "metadata": {},
   "outputs": [
    {
     "name": "stdout",
     "output_type": "stream",
     "text": [
      "[0, 1, 2]\n"
     ]
    }
   ],
   "source": [
    "def add(a):\n",
    "    return a + 1\n",
    "\n",
    "data = [1,2,3]\n",
    "result = []\n",
    "\n",
    "for i in data:\n",
    "    result.append(add(i))\n",
    "\n",
    "print(result)"
   ]
  },
  {
   "cell_type": "markdown",
   "metadata": {},
   "source": [
    "filter 함수를 lambda 적용 해서 해보기"
   ]
  },
  {
   "cell_type": "code",
   "execution_count": 2,
   "metadata": {},
   "outputs": [
    {
     "name": "stdout",
     "output_type": "stream",
     "text": [
      "[1, 2, 3]\n"
     ]
    }
   ],
   "source": [
    "result = list(filter((lambda a: a+1),[1,2,3]))\n",
    "# [1,2,3] 의 각 요소가 a+1에 적용 했을 때\n",
    "# 참이면 결과값이 처음 리스트 요소로 반환됨\n",
    "# 0이 아닌 모든 숫자는 True로 평가 된다.\n",
    "# 따라서 [2,3,4]가 아닌 [1,2,3]으로 결과값 반환\n",
    "print(result)"
   ]
  },
  {
   "cell_type": "code",
   "execution_count": 4,
   "metadata": {},
   "outputs": [
    {
     "name": "stdout",
     "output_type": "stream",
     "text": [
      "[0, 1]\n"
     ]
    }
   ],
   "source": [
    "result = list(filter(lambda a: a+1,[-1,0,1]))\n",
    "print(result)"
   ]
  },
  {
   "cell_type": "code",
   "execution_count": 15,
   "metadata": {},
   "outputs": [
    {
     "name": "stdout",
     "output_type": "stream",
     "text": [
      "[0, 1, 2]\n"
     ]
    }
   ],
   "source": [
    "result = list(map(lambda a: a+1,[-1,0,1]))\n",
    "print(result)"
   ]
  },
  {
   "cell_type": "code",
   "execution_count": 18,
   "metadata": {},
   "outputs": [
    {
     "data": {
      "text/plain": [
       "[1, 3, 4]"
      ]
     },
     "execution_count": 18,
     "metadata": {},
     "output_type": "execute_result"
    }
   ],
   "source": [
    "sorted([1,3,4])"
   ]
  },
  {
   "cell_type": "code",
   "execution_count": 22,
   "metadata": {},
   "outputs": [
    {
     "name": "stdout",
     "output_type": "stream",
     "text": [
      "걸어 가기\n"
     ]
    }
   ],
   "source": [
    "money = False\n",
    "card = False\n",
    "\n",
    "if money  : \n",
    "    print(\"택시 타기\")\n",
    "\n",
    "elif card :\n",
    "    print(\"택시 타기\")\n",
    "\n",
    "else : \n",
    "    print(\"걸어 가기\")"
   ]
  }
 ],
 "metadata": {
  "kernelspec": {
   "display_name": "Python 3",
   "language": "python",
   "name": "python3"
  },
  "language_info": {
   "codemirror_mode": {
    "name": "ipython",
    "version": 3
   },
   "file_extension": ".py",
   "mimetype": "text/x-python",
   "name": "python",
   "nbconvert_exporter": "python",
   "pygments_lexer": "ipython3",
   "version": "3.11.2"
  }
 },
 "nbformat": 4,
 "nbformat_minor": 2
}
