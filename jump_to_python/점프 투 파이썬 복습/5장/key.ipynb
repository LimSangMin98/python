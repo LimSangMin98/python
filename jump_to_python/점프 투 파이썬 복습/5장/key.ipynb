{
 "cells": [
  {
   "cell_type": "markdown",
   "metadata": {},
   "source": [
    "딕셔너리 자료형\n",
    "   - key와 value 위치 바꾸기"
   ]
  },
  {
   "cell_type": "code",
   "execution_count": 14,
   "metadata": {},
   "outputs": [
    {
     "name": "stdout",
     "output_type": "stream",
     "text": [
      "{'야구': '류현진', '피겨스케이팅': '김연아', '축구': '박지성'}\n",
      "[('야구', '류현진'), ('피겨스케이팅', '김연아'), ('축구', '박지성')]\n"
     ]
    }
   ],
   "source": [
    "a = {\"야구\" : \"류현진\" , \"피겨스케이팅\" : \"김연아\" , \"축구\" : \"박지성\"}\n",
    "print(a)\n",
    "\n",
    "print(list(a.items()))\n",
    "\n"
   ]
  }
 ],
 "metadata": {
  "kernelspec": {
   "display_name": "Python 3",
   "language": "python",
   "name": "python3"
  },
  "language_info": {
   "codemirror_mode": {
    "name": "ipython",
    "version": 3
   },
   "file_extension": ".py",
   "mimetype": "text/x-python",
   "name": "python",
   "nbconvert_exporter": "python",
   "pygments_lexer": "ipython3",
   "version": "3.11.2"
  }
 },
 "nbformat": 4,
 "nbformat_minor": 2
}
