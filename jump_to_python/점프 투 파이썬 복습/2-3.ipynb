{
 "cells": [
  {
   "cell_type": "markdown",
   "metadata": {},
   "source": [
    "## 2-3 리스트 자료형 ##"
   ]
  },
  {
   "cell_type": "markdown",
   "metadata": {},
   "source": [
    "리스트 인덱싱, 슬라이싱"
   ]
  },
  {
   "cell_type": "code",
   "execution_count": 8,
   "metadata": {},
   "outputs": [
    {
     "name": "stdout",
     "output_type": "stream",
     "text": [
      "[1, 2, 3]\n",
      "1\n",
      "4\n",
      "['a', 'b', 'c']\n",
      "a\n",
      "==================================================\n",
      "[1, 2]\n",
      "[3, 4, 5]\n"
     ]
    }
   ],
   "source": [
    "# 리스트 인덱싱\n",
    "a = [1,2,3]\n",
    "print(a)\n",
    "print(a[0])\n",
    "print(a[0]+a[2])\n",
    "\n",
    "a = [1,2,3,['a','b','c']]\n",
    "print(a[3])\n",
    "print(a[3][0])\n",
    "\n",
    "print('='*50)\n",
    "\n",
    "# 리스트 슬라이싱\n",
    "a = [1,2,3,4,5]\n",
    "b = a[:2]\n",
    "c = a[2:]\n",
    "print(b)\n",
    "print(c)"
   ]
  },
  {
   "cell_type": "markdown",
   "metadata": {},
   "source": [
    "리스트 연산(주의해야 할 점)"
   ]
  },
  {
   "cell_type": "code",
   "execution_count": 20,
   "metadata": {},
   "outputs": [
    {
     "name": "stdout",
     "output_type": "stream",
     "text": [
      "3hi\n"
     ]
    }
   ],
   "source": [
    "a = [1,2,3]\n",
    "# print(a[2]+\"hi\")   # 리스트 안의 숫자는 정수, 정수와 문자열을 서로 더할수 없음\n",
    "\n",
    "print(str(a[2])+\"hi\")  # 정수형 -> 문자열로 바꿈(str)\n",
    "\n"
   ]
  },
  {
   "cell_type": "markdown",
   "metadata": {},
   "source": [
    "리스트 수정과 삭제\n",
    "    - del과 append 함수"
   ]
  },
  {
   "cell_type": "code",
   "execution_count": 22,
   "metadata": {},
   "outputs": [
    {
     "name": "stdout",
     "output_type": "stream",
     "text": [
      "[1, 3]\n",
      "==================================================\n",
      "[1, 3, 4]\n",
      "==================================================\n",
      "[1, 2, 3, 4]\n"
     ]
    }
   ],
   "source": [
    "a = [1,2,3]\n",
    "del a[1]\n",
    "print(a)\n",
    "\n",
    "print('='*50)\n",
    "\n",
    "a.append(4)\n",
    "print(a)\n",
    "\n",
    "print('='*50)\n",
    "\n",
    "b = [1,4,3,2]\n",
    "b.sort()\n",
    "print(b)"
   ]
  },
  {
   "cell_type": "markdown",
   "metadata": {},
   "source": [
    "리스트 위치 반환(index), 요소 삽입(insert), 요소 제거(remove)"
   ]
  },
  {
   "cell_type": "code",
   "execution_count": 28,
   "metadata": {},
   "outputs": [
    {
     "name": "stdout",
     "output_type": "stream",
     "text": [
      "2\n",
      "--------------------------------------------------\n",
      "[4, 1, 2, 3]\n",
      "--------------------------------------------------\n",
      "[4, 1, 2]\n"
     ]
    }
   ],
   "source": [
    "a = [1,2,3]\n",
    "print(a.index(3))\n",
    "\n",
    "print('-'*50)\n",
    "\n",
    "a.insert(0,4)\n",
    "print(a)\n",
    "\n",
    "print('-'*50)\n",
    "\n",
    "a.remove(3)\n",
    "print(a)"
   ]
  },
  {
   "cell_type": "markdown",
   "metadata": {},
   "source": [
    "튜플 자료형\n",
    "    - 리스트와 달리 ()를 사용\n",
    "    - 생성,삭제,수정 불가능\n",
    "    - 항상 값이 변하지 않고 싶을 때 주로 사용\n",
    "    - 리스트 처럼 인덱싱, 연산, 길이 등 구할 수 있다."
   ]
  },
  {
   "cell_type": "markdown",
   "metadata": {},
   "source": [
    "딕셔너리 자료형\n",
    "    - { } 를 사용\n",
    "    - Key, Value가 한 쌍으로 갖는 자료형\n",
    "    - 대응 관계를 나타내는 자료형 -> Hash\n",
    "    - 리스트나 튜플처럼 순차적으로 구하지 않고 Key로 Value를 얻는다.(Ex.사전)"
   ]
  },
  {
   "cell_type": "code",
   "execution_count": 35,
   "metadata": {},
   "outputs": [
    {
     "name": "stdout",
     "output_type": "stream",
     "text": [
      "{'name': 'pey', 'phone': '0119993323', 'birth': '1118'}\n",
      "{1: 'hi'}\n"
     ]
    }
   ],
   "source": [
    "dic = {'name' : 'pey', 'phone' : '0119993323', 'birth' : '1118'}\n",
    "print(dic)\n",
    "\n",
    "a={1:'hi'}\n",
    "print(a)"
   ]
  },
  {
   "cell_type": "markdown",
   "metadata": {},
   "source": [
    "딕셔너리 쌍 추가, 삭제"
   ]
  },
  {
   "cell_type": "code",
   "execution_count": 37,
   "metadata": {},
   "outputs": [
    {
     "name": "stdout",
     "output_type": "stream",
     "text": [
      "{1: 'a', 2: 'b'}\n",
      "{2: 'b'}\n"
     ]
    }
   ],
   "source": [
    "# 추가\n",
    "a = {1:'a'}\n",
    "a[2] = 'b'     # {2 : 'b'} 추가\n",
    "print(a)\n",
    "\n",
    "# 삭제\n",
    "del a[1]\n",
    "print(a)"
   ]
  },
  {
   "cell_type": "markdown",
   "metadata": {},
   "source": [
    "딕셔너리 사용 시 주의 할 점\n",
    "    - 중복되는 키값 사용 시 하나를 제외한 나머지는 무시 됨\n",
    "    - 어떤 Key에 해당하는 Value를 불러야 할지 알 수 없음\n",
    "    - Key는 리스트 값을 사용할 수 없음(리스트는 값이 변하기 때문)"
   ]
  },
  {
   "cell_type": "code",
   "execution_count": 41,
   "metadata": {},
   "outputs": [
    {
     "name": "stdout",
     "output_type": "stream",
     "text": [
      "{1: 'b'}\n"
     ]
    }
   ],
   "source": [
    "a = {1 : 'a', 1 : 'b'}\n",
    "print(a)"
   ]
  },
  {
   "cell_type": "markdown",
   "metadata": {},
   "source": [
    "Key, Value 쌍 얻기(items), 지우기(clear), "
   ]
  },
  {
   "cell_type": "code",
   "execution_count": 45,
   "metadata": {},
   "outputs": [
    {
     "name": "stdout",
     "output_type": "stream",
     "text": [
      "dict_items([('name', 'pey'), ('phone', '0119993323'), ('birth', '1118')])\n",
      "{}\n"
     ]
    }
   ],
   "source": [
    "dic = {'name' : 'pey', 'phone' : '0119993323', 'birth' : '1118'}\n",
    "print(dic.items())\n",
    "dic.clear()\n",
    "print(dic)"
   ]
  },
  {
   "cell_type": "markdown",
   "metadata": {},
   "source": [
    "집합 자료형\n",
    "    - set 자료형 사용 -> 주로 교집합 합집합 등 유용함\n",
    "    - [],{} 둘다 사용 가능\n",
    "    - 중복을 허용 하지 않는다\n",
    "    - 순서가 없다 -> 인덱싱으로 값을 얻을 수가 없다.\n",
    "    - 인덱싱 하기 위해선 리스트나 튜플로 변환해야 함"
   ]
  },
  {
   "cell_type": "code",
   "execution_count": 47,
   "metadata": {},
   "outputs": [
    {
     "name": "stdout",
     "output_type": "stream",
     "text": [
      "{1, 2, 3}\n",
      "{'o', 'l', 'h', 'e'}\n"
     ]
    }
   ],
   "source": [
    "s1 = set([1,2,3])\n",
    "print(s1)\n",
    "\n",
    "s2 = set(\"hello\")\n",
    "print(s2)             # 중복 허용x, 순서가 없음을 알 수 있다."
   ]
  },
  {
   "cell_type": "code",
   "execution_count": 48,
   "metadata": {},
   "outputs": [
    {
     "name": "stdout",
     "output_type": "stream",
     "text": [
      "[1, 2, 3]\n",
      "1\n"
     ]
    }
   ],
   "source": [
    "s1 = set([1,2,3])\n",
    "l1 = list(s1)\n",
    "print(l1)\n",
    "print(l1[0])"
   ]
  },
  {
   "cell_type": "markdown",
   "metadata": {},
   "source": [
    "교집합, 차집합, 합집합 구하기"
   ]
  },
  {
   "cell_type": "code",
   "execution_count": 49,
   "metadata": {},
   "outputs": [
    {
     "name": "stdout",
     "output_type": "stream",
     "text": [
      "{4, 5, 6}\n",
      "{4, 5, 6}\n",
      "{1, 2, 3, 4, 5, 6, 7, 8, 9}\n",
      "{1, 2, 3, 4, 5, 6, 7, 8, 9}\n",
      "{1, 2, 3}\n"
     ]
    }
   ],
   "source": [
    "s1 = set([1,2,3,4,5,6])\n",
    "s2 = set([4,5,6,7,8,9])\n",
    "\n",
    "print(s1 & s2)\n",
    "print(s1.intersection(s2))\n",
    "print(s1| s2)\n",
    "print(s1.union(s2))\n",
    "print(s1-s2)"
   ]
  },
  {
   "cell_type": "markdown",
   "metadata": {},
   "source": [
    "불 자료형\n",
    "    - 참과 거짓을 나타내는 자료형"
   ]
  },
  {
   "cell_type": "code",
   "execution_count": 51,
   "metadata": {},
   "outputs": [
    {
     "name": "stdout",
     "output_type": "stream",
     "text": [
      "<class 'bool'>\n",
      "<class 'bool'>\n"
     ]
    }
   ],
   "source": [
    "a = True\n",
    "b = False\n",
    "print(type(a))\n",
    "print(type(b))"
   ]
  },
  {
   "cell_type": "code",
   "execution_count": 53,
   "metadata": {},
   "outputs": [
    {
     "name": "stdout",
     "output_type": "stream",
     "text": [
      "True\n",
      "False\n"
     ]
    }
   ],
   "source": [
    "print(2>1)\n",
    "print(2<1)"
   ]
  },
  {
   "cell_type": "code",
   "execution_count": 4,
   "metadata": {},
   "outputs": [
    {
     "name": "stdout",
     "output_type": "stream",
     "text": [
      "참\n"
     ]
    }
   ],
   "source": [
    "a= [1,2,3,4]\n",
    "# while a :\n",
    "#     # print(a.pop())\n",
    "    \n",
    "if [1,2,3] : \n",
    "    print(\"참\")\n",
    "else : \n",
    "    print(\"거짓\")"
   ]
  },
  {
   "cell_type": "markdown",
   "metadata": {},
   "source": [
    "변수\n",
    "    - 자료형의 값을 저장하는 공간\n",
    "    - 객체가 가리키는 곳\n",
    "    - 얕은 복사와 깊은 복사의 차이"
   ]
  },
  {
   "cell_type": "code",
   "execution_count": 10,
   "metadata": {},
   "outputs": [
    {
     "name": "stdout",
     "output_type": "stream",
     "text": [
      "2446591432512\n",
      "2446591432512\n",
      "True\n",
      "--------------------------------------------------\n",
      "[1, 4, 3]\n",
      "[1, 4, 3]\n"
     ]
    }
   ],
   "source": [
    "a = [1,2,3]\n",
    "print(id(a))    # 리스트의 주소 값\n",
    "\n",
    "b = a\n",
    "print(id(b))    # 복사 해도 id 값이 동일 \n",
    "\n",
    "print(a is b)\n",
    "\n",
    "print('-'*50)\n",
    "\n",
    "a[1]=4\n",
    "print(a)\n",
    "print(b)        # a의 리스트 요소 바꿀시 b의 리스트 같이 바뀜"
   ]
  },
  {
   "cell_type": "markdown",
   "metadata": {},
   "source": [
    "copy 모듈 사용\n",
    "    - 깊은 복사"
   ]
  },
  {
   "cell_type": "code",
   "execution_count": 14,
   "metadata": {},
   "outputs": [
    {
     "name": "stdout",
     "output_type": "stream",
     "text": [
      "[1, 2, 3]\n",
      "False\n"
     ]
    }
   ],
   "source": [
    "from copy import copy\n",
    "a = [1,2,3]\n",
    "\n",
    "b = copy (a)\n",
    "print(copy(a))\n",
    "\n",
    "print(a is b)       # a와 b는 가리키는 객체가 다르다\n"
   ]
  }
 ],
 "metadata": {
  "kernelspec": {
   "display_name": "Python 3",
   "language": "python",
   "name": "python3"
  },
  "language_info": {
   "codemirror_mode": {
    "name": "ipython",
    "version": 3
   },
   "file_extension": ".py",
   "mimetype": "text/x-python",
   "name": "python",
   "nbconvert_exporter": "python",
   "pygments_lexer": "ipython3",
   "version": "3.11.2"
  }
 },
 "nbformat": 4,
 "nbformat_minor": 2
}
