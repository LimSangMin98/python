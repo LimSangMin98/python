{
 "cells": [
  {
   "cell_type": "markdown",
   "metadata": {},
   "source": [
    "# 5-4 예외처리"
   ]
  },
  {
   "cell_type": "markdown",
   "metadata": {},
   "source": [
    "1. 오류가 발생하는 이유는?\n",
    "   - 프로그램이 잘못 동작하는 것으 막기 위해\n",
    "\n",
    "2. try, except를 사용해서 예외적으로 오류를 처리(무시)할 수 있게 해준다.\n",
    "   - as e : 발생한 예외 객체를 참조 및 오류 메세지 출력"
   ]
  },
  {
   "cell_type": "code",
   "execution_count": 1,
   "metadata": {},
   "outputs": [
    {
     "name": "stdout",
     "output_type": "stream",
     "text": [
      "division by zero\n"
     ]
    }
   ],
   "source": [
    "try:\n",
    "    4/0\n",
    "except ZeroDivisionError as e :\n",
    "    print(e)"
   ]
  },
  {
   "cell_type": "markdown",
   "metadata": {},
   "source": [
    "나혼자 코딩!\n",
    "   -IndexError가 발생할 때 오류 메시지를 출력하는 소스를 작성하기"
   ]
  },
  {
   "cell_type": "code",
   "execution_count": 2,
   "metadata": {},
   "outputs": [
    {
     "name": "stdout",
     "output_type": "stream",
     "text": [
      "오류발생 : list index out of range\n"
     ]
    }
   ],
   "source": [
    "numbers = [1,2,3,4,5]\n",
    "\n",
    "try : \n",
    "    print(numbers[10])  # IndexError 발생\n",
    "\n",
    "except IndexError as e : \n",
    "    print(f\"오류발생 : {e}\")"
   ]
  },
  {
   "cell_type": "markdown",
   "metadata": {},
   "source": [
    "try...finally\n",
    "   -finally절은 try문 수행 도중 예외 발생과 상관없이 항상 수행됨"
   ]
  },
  {
   "cell_type": "code",
   "execution_count": 4,
   "metadata": {},
   "outputs": [],
   "source": [
    "f = open('foo.txt','w')\n",
    "try : \n",
    "    f.write(\"some text\")   # 무언가를 수행한다.\n",
    "finally :\n",
    "    f.close()"
   ]
  },
  {
   "cell_type": "code",
   "execution_count": 8,
   "metadata": {},
   "outputs": [
    {
     "data": {
      "text/plain": [
       "151"
      ]
     },
     "execution_count": 8,
     "metadata": {},
     "output_type": "execute_result"
    }
   ],
   "source": [
    "import gc\n",
    "gc.collect()"
   ]
  },
  {
   "cell_type": "markdown",
   "metadata": {},
   "source": [
    "2개 이상의 오류를 동시에 처리\n",
    "   - 하나의 에러가 발생하면 나머지 코드는 중단되고 첫번째 예외만 처리됨\n",
    "   - 2개 다 예외처리 하고싶은 경우엔\n",
    "   - 각각 예외를 별도로 try-except 블록으로 처리해야함\n",
    "   "
   ]
  },
  {
   "cell_type": "code",
   "execution_count": 1,
   "metadata": {},
   "outputs": [
    {
     "name": "stdout",
     "output_type": "stream",
     "text": [
      "list index out of range\n"
     ]
    }
   ],
   "source": [
    "try :\n",
    "    a = [1,2] \n",
    "    print(a[3])   # IndexError 발생 후 나머지 코드 실행중단\n",
    "    4/0           \n",
    "except (ZeroDivisionError , IndexError) as e:\n",
    "    print(e)      # 첫번째 예외만 처리됨"
   ]
  },
  {
   "cell_type": "markdown",
   "metadata": {},
   "source": [
    "오류 회피하기\n",
    "   - try문안에서 FileNotFoundError 가 발생시 pass를 사용하여 회피"
   ]
  },
  {
   "cell_type": "code",
   "execution_count": 2,
   "metadata": {},
   "outputs": [],
   "source": [
    "try : \n",
    "    f = open(\"나없는파일\",'r')\n",
    "except FileNotFoundError : \n",
    "    pass"
   ]
  },
  {
   "cell_type": "markdown",
   "metadata": {},
   "source": [
    "오류 일부러 발생시키기\n",
    "   ex)\n",
    "   - Bird 클래스를 상속받는 자식 클래스는\n",
    "   - 반드시 fly 함수를 구현하도록 만들고 싶은경우"
   ]
  },
  {
   "cell_type": "code",
   "execution_count": 6,
   "metadata": {},
   "outputs": [
    {
     "ename": "NotImplementedError",
     "evalue": "",
     "output_type": "error",
     "traceback": [
      "\u001b[1;31m---------------------------------------------------------------------------\u001b[0m",
      "\u001b[1;31mNotImplementedError\u001b[0m                       Traceback (most recent call last)",
      "Cell \u001b[1;32mIn[6], line 9\u001b[0m\n\u001b[0;32m      6\u001b[0m     \u001b[38;5;28;01mpass\u001b[39;00m\n\u001b[0;32m      8\u001b[0m eagle \u001b[38;5;241m=\u001b[39m Eagle()\n\u001b[1;32m----> 9\u001b[0m \u001b[43meagle\u001b[49m\u001b[38;5;241;43m.\u001b[39;49m\u001b[43mfly\u001b[49m\u001b[43m(\u001b[49m\u001b[43m)\u001b[49m    \n",
      "Cell \u001b[1;32mIn[6], line 3\u001b[0m, in \u001b[0;36mBird.fly\u001b[1;34m(self)\u001b[0m\n\u001b[0;32m      2\u001b[0m \u001b[38;5;28;01mdef\u001b[39;00m \u001b[38;5;21mfly\u001b[39m(\u001b[38;5;28mself\u001b[39m) : \n\u001b[1;32m----> 3\u001b[0m     \u001b[38;5;28;01mraise\u001b[39;00m \u001b[38;5;167;01mNotImplementedError\u001b[39;00m\n",
      "\u001b[1;31mNotImplementedError\u001b[0m: "
     ]
    }
   ],
   "source": [
    "class Bird : \n",
    "    def fly(self) : \n",
    "        raise NotImplementedError\n",
    "\n",
    "# 자식클래스가 fly 함수를 구현하지 않을 경우\n",
    "class Eagle(Bird) : \n",
    "\n",
    "    pass         # Eagle 클래스에서 fly 함수 구현을 패스\n",
    "\n",
    "eagle = Eagle()\n",
    "eagle.fly()      # Bird 클래스의 fly 함수가 호출되어 오류 발생"
   ]
  },
  {
   "cell_type": "markdown",
   "metadata": {},
   "source": [
    "메서드 오버라이딩 : 위의 예제코드처럼 상속받는 클래스에서 \n",
    "                   함수를 재구현하는것\n",
    "\n",
    "NotImplementedError : 꼭 작성해야 하는 부분이 구현되지 않았을 경우\n",
    "                      일부로 오류를 일으키기 위해 사용함"
   ]
  },
  {
   "cell_type": "markdown",
   "metadata": {},
   "source": [
    "NotImplementedError가 발생되지 않게 하는 방법\n",
    "   - Eagle 클래스에 fly 함수를 반드시 구현하기"
   ]
  },
  {
   "cell_type": "code",
   "execution_count": 7,
   "metadata": {},
   "outputs": [
    {
     "name": "stdout",
     "output_type": "stream",
     "text": [
      "very fast\n"
     ]
    }
   ],
   "source": [
    "class Eagle(Bird):\n",
    "    def fly(self) : \n",
    "        print(\"very fast\")\n",
    "\n",
    "eagle = Eagle()\n",
    "eagle.fly()"
   ]
  },
  {
   "cell_type": "markdown",
   "metadata": {},
   "source": [
    "예외 만들기\n",
    "   - 파이썬 내장 클래스인 Exception 클래스를 상속하여 만들 수 있다."
   ]
  },
  {
   "cell_type": "code",
   "execution_count": 9,
   "metadata": {},
   "outputs": [
    {
     "name": "stdout",
     "output_type": "stream",
     "text": [
      "천사\n",
      "None\n"
     ]
    },
    {
     "ename": "MyError",
     "evalue": "",
     "output_type": "error",
     "traceback": [
      "\u001b[1;31m---------------------------------------------------------------------------\u001b[0m",
      "\u001b[1;31mMyError\u001b[0m                                   Traceback (most recent call last)",
      "Cell \u001b[1;32mIn[9], line 10\u001b[0m\n\u001b[0;32m      7\u001b[0m     \u001b[38;5;28mprint\u001b[39m(nick)\n\u001b[0;32m      9\u001b[0m \u001b[38;5;28mprint\u001b[39m(say_nick(\u001b[38;5;124m\"\u001b[39m\u001b[38;5;124m천사\u001b[39m\u001b[38;5;124m\"\u001b[39m))\n\u001b[1;32m---> 10\u001b[0m \u001b[38;5;28mprint\u001b[39m(\u001b[43msay_nick\u001b[49m\u001b[43m(\u001b[49m\u001b[38;5;124;43m\"\u001b[39;49m\u001b[38;5;124;43m바보\u001b[39;49m\u001b[38;5;124;43m\"\u001b[39;49m\u001b[43m)\u001b[49m)\n",
      "Cell \u001b[1;32mIn[9], line 6\u001b[0m, in \u001b[0;36msay_nick\u001b[1;34m(nick)\u001b[0m\n\u001b[0;32m      4\u001b[0m \u001b[38;5;28;01mdef\u001b[39;00m \u001b[38;5;21msay_nick\u001b[39m(nick) : \n\u001b[0;32m      5\u001b[0m     \u001b[38;5;28;01mif\u001b[39;00m nick \u001b[38;5;241m==\u001b[39m \u001b[38;5;124m'\u001b[39m\u001b[38;5;124m바보\u001b[39m\u001b[38;5;124m'\u001b[39m : \n\u001b[1;32m----> 6\u001b[0m         \u001b[38;5;28;01mraise\u001b[39;00m MyError()\n\u001b[0;32m      7\u001b[0m     \u001b[38;5;28mprint\u001b[39m(nick)\n",
      "\u001b[1;31mMyError\u001b[0m: "
     ]
    }
   ],
   "source": [
    "class MyError(Exception) : \n",
    "    pass\n",
    "\n",
    "def say_nick(nick) : \n",
    "    if nick == '바보' : \n",
    "        raise MyError()\n",
    "    print(nick)\n",
    "\n",
    "print(say_nick(\"천사\"))\n",
    "print(say_nick(\"바보\"))"
   ]
  },
  {
   "cell_type": "markdown",
   "metadata": {},
   "source": [
    "위의 예제코드를 예외 처리 기법을 사용하기\n",
    "   - MyError 에러를 except를 사용하여 예외처리"
   ]
  },
  {
   "cell_type": "code",
   "execution_count": 10,
   "metadata": {},
   "outputs": [
    {
     "name": "stdout",
     "output_type": "stream",
     "text": [
      "천사\n",
      "허용되지 않는 별명입니다.\n"
     ]
    }
   ],
   "source": [
    "class MyError(Exception) : \n",
    "    pass\n",
    "\n",
    "def say_nick(nick) : \n",
    "    if nick == '바보' : \n",
    "        raise MyError()\n",
    "    print(nick)\n",
    "\n",
    "try : \n",
    "    say_nick(\"천사\")\n",
    "    say_nick(\"바보\")\n",
    "except MyError : \n",
    "    print(\"허용되지 않는 별명입니다.\")"
   ]
  },
  {
   "cell_type": "code",
   "execution_count": 11,
   "metadata": {},
   "outputs": [
    {
     "name": "stdout",
     "output_type": "stream",
     "text": [
      "천사\n",
      "\n"
     ]
    }
   ],
   "source": [
    "class MyError(Exception) : \n",
    "    pass\n",
    "\n",
    "def say_nick(nick) : \n",
    "    if nick == '바보' : \n",
    "        raise MyError()\n",
    "    print(nick)\n",
    "\n",
    "try : \n",
    "    say_nick(\"천사\")\n",
    "    say_nick(\"바보\")\n",
    "except MyError as e:\n",
    "    print(e) "
   ]
  }
 ],
 "metadata": {
  "kernelspec": {
   "display_name": "Python 3",
   "language": "python",
   "name": "python3"
  },
  "language_info": {
   "codemirror_mode": {
    "name": "ipython",
    "version": 3
   },
   "file_extension": ".py",
   "mimetype": "text/x-python",
   "name": "python",
   "nbconvert_exporter": "python",
   "pygments_lexer": "ipython3",
   "version": "3.11.2"
  }
 },
 "nbformat": 4,
 "nbformat_minor": 2
}
